{
  "nbformat": 4,
  "nbformat_minor": 0,
  "metadata": {
    "colab": {
      "name": "Sprint 3/14 AlphaVantage",
      "provenance": [],
      "collapsed_sections": [],
      "toc_visible": true
    },
    "kernelspec": {
      "name": "python3",
      "display_name": "Python 3"
    }
  },
  "cells": [
    {
      "cell_type": "markdown",
      "metadata": {
        "id": "Ov682DgPTmt4"
      },
      "source": [
        "# Alpha Vantage Real-Time Data and Download Data\n",
        "\n",
        "### Instructions\n",
        "Please make a copy of this CoLab notebook and experiment with the Alpha Vantage API! \n",
        "\n",
        "First take a look at both tutorials, and then make a variation on the content from the tutorials, i.e. use the API to grab some stock data you find interesting and make a simple visualization of it.\n",
        "\n",
        "I've already helped you install Alpha Vantage on this CoLab notebook, so make sure to run that first. Also, if you add a file to CoLab, the file recycles after a while, so you would have to re-upload it the next time you use it.\n",
        "\n",
        "Here is an API key that I've already generated: `DQYCL9VT50BGQGW4`\n",
        "\n",
        "You can use this key, or feel free to go to the Alpha Vantage website and generate your own key.\n",
        "\n",
        "### Tutorial videos\n",
        "Real-time data tutorial video (10 min): https://www.youtube.com/watch?v=WJ2t_LYb__0\n",
        "\n",
        "Download data tutorial video (14 min): https://www.youtube.com/watch?v=gzpywHxftEk\n",
        "\n",
        "### Other useful resources\n",
        "\n",
        "Alphavantage documentation: https://www.alphavantage.co/documentation/#\n",
        "\n",
        "Alphavantage API wrapper for Python: https://hexdocs.pm/alpha_vantage/readme.html"
      ]
    },
    {
      "cell_type": "code",
      "metadata": {
        "colab": {
          "base_uri": "https://localhost:8080/"
        },
        "id": "X0qmswS7Td_Q",
        "outputId": "4e3eb556-0582-414d-b48a-e4356d34c080"
      },
      "source": [
        "!pip install alpha_vantage"
      ],
      "execution_count": 2,
      "outputs": [
        {
          "output_type": "stream",
          "text": [
            "Collecting alpha_vantage\n",
            "  Downloading https://files.pythonhosted.org/packages/ba/b4/d95f9e0eccea6732bab5a079772d453a4f0b68a9f63740d9cf320f92beaa/alpha_vantage-2.3.1-py3-none-any.whl\n",
            "Collecting aiohttp\n",
            "\u001b[?25l  Downloading https://files.pythonhosted.org/packages/88/c0/5890b4c8b04a79b7360e8fe4490feb0bb3ab179743f199f0e6220cebd568/aiohttp-3.7.4.post0-cp37-cp37m-manylinux2014_x86_64.whl (1.3MB)\n",
            "\u001b[K     |████████████████████████████████| 1.3MB 7.1MB/s \n",
            "\u001b[?25hRequirement already satisfied: requests in /usr/local/lib/python3.7/dist-packages (from alpha_vantage) (2.23.0)\n",
            "Requirement already satisfied: attrs>=17.3.0 in /usr/local/lib/python3.7/dist-packages (from aiohttp->alpha_vantage) (20.3.0)\n",
            "Requirement already satisfied: chardet<5.0,>=2.0 in /usr/local/lib/python3.7/dist-packages (from aiohttp->alpha_vantage) (3.0.4)\n",
            "Collecting yarl<2.0,>=1.0\n",
            "\u001b[?25l  Downloading https://files.pythonhosted.org/packages/f1/62/046834c5fc998c88ab2ef722f5d42122230a632212c8afa76418324f53ff/yarl-1.6.3-cp37-cp37m-manylinux2014_x86_64.whl (294kB)\n",
            "\u001b[K     |████████████████████████████████| 296kB 40.7MB/s \n",
            "\u001b[?25hCollecting async-timeout<4.0,>=3.0\n",
            "  Downloading https://files.pythonhosted.org/packages/e1/1e/5a4441be21b0726c4464f3f23c8b19628372f606755a9d2e46c187e65ec4/async_timeout-3.0.1-py3-none-any.whl\n",
            "Requirement already satisfied: typing-extensions>=3.6.5 in /usr/local/lib/python3.7/dist-packages (from aiohttp->alpha_vantage) (3.7.4.3)\n",
            "Collecting multidict<7.0,>=4.5\n",
            "\u001b[?25l  Downloading https://files.pythonhosted.org/packages/7c/a6/4123b8165acbe773d1a8dc8e3f0d1edea16d29f7de018eda769abb56bd30/multidict-5.1.0-cp37-cp37m-manylinux2014_x86_64.whl (142kB)\n",
            "\u001b[K     |████████████████████████████████| 143kB 39.1MB/s \n",
            "\u001b[?25hRequirement already satisfied: idna<3,>=2.5 in /usr/local/lib/python3.7/dist-packages (from requests->alpha_vantage) (2.10)\n",
            "Requirement already satisfied: certifi>=2017.4.17 in /usr/local/lib/python3.7/dist-packages (from requests->alpha_vantage) (2020.12.5)\n",
            "Requirement already satisfied: urllib3!=1.25.0,!=1.25.1,<1.26,>=1.21.1 in /usr/local/lib/python3.7/dist-packages (from requests->alpha_vantage) (1.24.3)\n",
            "Installing collected packages: multidict, yarl, async-timeout, aiohttp, alpha-vantage\n",
            "Successfully installed aiohttp-3.7.4.post0 alpha-vantage-2.3.1 async-timeout-3.0.1 multidict-5.1.0 yarl-1.6.3\n"
          ],
          "name": "stdout"
        }
      ]
    },
    {
      "cell_type": "code",
      "metadata": {
        "id": "IXFYAfOrHnGm"
      },
      "source": [
        "import pandas as pd\n",
        "import matplotlib.pyplot as plt\n",
        "from alpha_vantage.timeseries import TimeSeries"
      ],
      "execution_count": 3,
      "outputs": []
    },
    {
      "cell_type": "code",
      "metadata": {
        "id": "Q0YLLTsDHpbG"
      },
      "source": [
        "key = 'DQYCL9VT50BGQGW4'"
      ],
      "execution_count": 4,
      "outputs": []
    },
    {
      "cell_type": "code",
      "metadata": {
        "id": "qmDVXBtxJSbw"
      },
      "source": [
        "from alpha_vantage.techindicators import TechIndicators"
      ],
      "execution_count": 5,
      "outputs": []
    },
    {
      "cell_type": "code",
      "metadata": {
        "id": "W2kEPIsKH3-x"
      },
      "source": [
        "ts = TimeSeries(key, output_format='pandas')\n",
        "market, meta = ts.get_daily('GME', outputsize='full')"
      ],
      "execution_count": 6,
      "outputs": []
    },
    {
      "cell_type": "code",
      "metadata": {
        "id": "DMqXX-M0H7MR"
      },
      "source": [
        "market.columns = ['open', 'high', 'low', 'close', 'volume']"
      ],
      "execution_count": 7,
      "outputs": []
    },
    {
      "cell_type": "code",
      "metadata": {
        "id": "F8lQb5SYINzv"
      },
      "source": [
        "market.sort_index(inplace=True)\n",
        "market = market.loc['2021-01-01':'2021-03-19']"
      ],
      "execution_count": 8,
      "outputs": []
    },
    {
      "cell_type": "code",
      "metadata": {
        "colab": {
          "base_uri": "https://localhost:8080/",
          "height": 265
        },
        "id": "n8nQWGiFIQL5",
        "outputId": "d77de318-928b-4dc1-aa6b-75ba38ee61ae"
      },
      "source": [
        "fig1 = plt.figure(facecolor='white')\n",
        "ax1 = plt.axes(frameon=False)\n",
        "ax1.get_xaxis().tick_bottom()\n",
        "ax1.axes.get_yaxis().set_visible(False)\n",
        "plt.plot(market['volume'])\n",
        "plt.plot(market['open']*sum(market['volume'])/sum(market['open']))\n",
        "xmin, xmax = ax1.get_xaxis().get_view_interval()\n",
        "ymin, ymax = ax1.get_yaxis().get_view_interval()\n",
        "plt.show()"
      ],
      "execution_count": 9,
      "outputs": [
        {
          "output_type": "display_data",
          "data": {
            "image/png": "[encoded data removed]",
            "text/plain": [
              "<Figure size 432x288 with 1 Axes>"
            ]
          },
          "metadata": {
            "tags": []
          }
        }
      ]
    },
    {
      "cell_type": "code",
      "metadata": {
        "id": "eD5jeWz9mDB-"
      },
      "source": [
        ""
      ],
      "execution_count": null,
      "outputs": []
    }
  ]
}